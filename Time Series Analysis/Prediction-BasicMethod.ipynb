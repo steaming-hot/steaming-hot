{
 "cells": [
  {
   "cell_type": "code",
   "execution_count": 1,
   "metadata": {},
   "outputs": [],
   "source": [
    "import pandas as pd\n",
    "import numpy as np\n",
    "\n",
    "#For plotting\n",
    "import matplotlib.dates as mdates\n",
    "import matplotlib.pyplot as plt\n",
    "from datetime import datetime\n",
    "\n",
    "# Import the SimpleExpSmoothing object\n",
    "from statsmodels.tsa.api import SimpleExpSmoothing\n",
    "# Import the ARIMA object\n",
    "from statsmodels.tsa.arima.model import ARIMA"
   ]
  },
  {
   "cell_type": "markdown",
   "metadata": {},
   "source": [
    "# Prediction of Time Series Data - Basic Methods"
   ]
  },
  {
   "cell_type": "markdown",
   "metadata": {},
   "source": [
    "In this notebook, we use simple methods, like the naive method, simple exponential smoothing and ARIMA, to predict time series data and take a look at the RMSE of percentage errors."
   ]
  },
  {
   "cell_type": "markdown",
   "metadata": {},
   "source": [
    "First, read the time series data:"
   ]
  },
  {
   "cell_type": "code",
   "execution_count": 2,
   "metadata": {},
   "outputs": [],
   "source": [
    "# Get time series data:\n",
    "data = pd.read_csv('SteamCharts.csv',low_memory=False)\n",
    "\n",
    "# Replace inf to NaN:\n",
    "data = data.replace({np.inf:np.nan})\n",
    "data = data.replace({'+Inf':np.nan})"
   ]
  },
  {
   "cell_type": "markdown",
   "metadata": {},
   "source": [
    "The file ``SteamCharts.csv`` contains the peak number of players, average number of players, gain and percentage gain. The following codes allows you to extract all of them seperately. In this notebook, we focus on predicting the average number of players."
   ]
  },
  {
   "cell_type": "code",
   "execution_count": 3,
   "metadata": {},
   "outputs": [],
   "source": [
    "# Get Avg_Players.\n",
    "\n",
    "# Get Perc_Gain.\n",
    "p_gain = data.loc[data['Perc_Gain']==1]\n",
    "p_gain = p_gain.drop(columns=['Avg_Players', 'Gain', 'Perc_Gain', 'Peak_Players','Last 30 Days'])\n",
    "p_gain_pure = p_gain.drop(columns=['App_id', 'Name']).astype(float)\n",
    "\n",
    "# Get Avg_Players.\n",
    "avg_players = data.loc[data['Avg_Players']==1]\n",
    "avg_players = avg_players.drop(columns=['Avg_Players', 'Gain', 'Perc_Gain', 'Peak_Players','Last 30 Days'])\n",
    "avg_pure = avg_players.drop(columns=['App_id', 'Name']).astype(float)\n",
    "\n",
    "# Get Peak_Players.\n",
    "peak_players = data.loc[data['Peak_Players']==1]\n",
    "peak_players = peak_players.drop(columns=['Avg_Players', 'Gain', 'Perc_Gain', 'Peak_Players','Last 30 Days'])\n",
    "peak_pure = peak_players.drop(columns=['App_id', 'Name']).astype(float)\n",
    "\n",
    "# Add columns of max and mean\n",
    "avg_players['max'] = avg_pure.max(axis=1)\n",
    "avg_players['mean'] = avg_pure.mean(axis=1)\n",
    "\n",
    "peak_players['peak_max'] = peak_pure.max(axis=1)\n",
    "peak_players['peak_mean'] = peak_pure.mean(axis=1)"
   ]
  },
  {
   "cell_type": "markdown",
   "metadata": {},
   "source": [
    "Let us now select games with\n",
    "- max of avg_players is larger than or equal to 10,\n",
    "- release time between July 2012 and March 2021, and\n",
    "- no 'NaN' in between the time series."
   ]
  },
  {
   "cell_type": "code",
   "execution_count": 4,
   "metadata": {},
   "outputs": [],
   "source": [
    "avg_pure = avg_pure.loc[avg_players['max']>0]\n",
    "avg_pure = avg_pure.loc[avg_players['max'].isna()==False]\n",
    "avg_pure = avg_pure.reset_index(drop=True)\n",
    "\n",
    "avg_players = avg_players.loc[avg_players['max']>0]\n",
    "avg_players = avg_players.loc[avg_players['max'].isna()==False]\n",
    "avg_players = avg_players.reset_index(drop=True)\n",
    "\n",
    "birth = [avg_pure.iloc[i].last_valid_index() for i in range(len(avg_pure))]\n",
    "avg_players['birth']=birth"
   ]
  },
  {
   "cell_type": "code",
   "execution_count": 5,
   "metadata": {},
   "outputs": [],
   "source": [
    "#Select games with max of avg_players >=10\n",
    "\n",
    "avg1 = avg_players.loc[avg_players['max']>=10]\n",
    "avg_pure1 = avg_pure.loc[avg_players['max']>=10]\n",
    "\n",
    "\n",
    "#Select games with release time between July 2012 and March 2021\n",
    "\n",
    "avg1 = avg1.loc[avg_players['birth']!='July 2012'].reset_index(drop=True)\n",
    "avg_pure1 = avg_pure1.loc[avg_players['birth']!='July 2012'].reset_index(drop=True)\n",
    "\n",
    "#Select games with no NaN data in between\n",
    "\n",
    "incomplete_data = []\n",
    "for i in range(len(avg1)):\n",
    "    temp = avg_pure1.iloc[i]\n",
    "    if np.isnan(temp[temp.first_valid_index():temp.last_valid_index()]).any():\n",
    "        incomplete_data.append(i)\n",
    "len(incomplete_data)\n",
    "\n",
    "avg_players = avg1.drop(incomplete_data).reset_index(drop=True)\n",
    "avg_pure = avg_pure1.drop(incomplete_data).reset_index(drop=True)\n",
    "\n",
    "months = pd.to_datetime(avg_pure.iloc[0].index)"
   ]
  },
  {
   "cell_type": "markdown",
   "metadata": {},
   "source": [
    "# Accuracy of Naive, SES and ARIMA\n",
    "\n",
    "Next we compute the accuracy of prediction models on the same test set using basic methods, as a comparison to our prediction model. We will use m months data to predict next n months. For example, take m=12 and n=6."
   ]
  },
  {
   "cell_type": "markdown",
   "metadata": {},
   "source": [
    "The following function allows us to save time series data for each game as a seperate dataframe:"
   ]
  },
  {
   "cell_type": "code",
   "execution_count": 6,
   "metadata": {},
   "outputs": [],
   "source": [
    "def nonsmooth_values(data):\n",
    "    nonsmooth = []\n",
    "    for i in range(len(data)):\n",
    "        game_data = data.iloc[i]\n",
    "        game = pd.DataFrame({'Month':months,'Data': game_data.astype(float)}).sort_values(by=['Month'])\n",
    "        temp = game['Data'][game['Data'].first_valid_index():game['Data'].last_valid_index()].values\n",
    "        nonsmooth.append(temp)\n",
    "    return nonsmooth"
   ]
  },
  {
   "cell_type": "markdown",
   "metadata": {},
   "source": [
    "Define the root mean square error for computing percentage error."
   ]
  },
  {
   "cell_type": "code",
   "execution_count": 7,
   "metadata": {},
   "outputs": [],
   "source": [
    "def rootmse(a, b):\n",
    "    return np.sqrt(np.sum((a-b)**2)/len(b))\n",
    "\n",
    "def get_error(a,b):\n",
    "    # percentage RMSE \n",
    "    return rootmse(a,b)/rootmse(0,b)"
   ]
  },
  {
   "cell_type": "markdown",
   "metadata": {},
   "source": [
    "The following function returns the errors of \n",
    "- naive method, \n",
    "- SES, \n",
    "- the average of naive and SES\n",
    "\n",
    "ARIMA will be applied seperately, as it is much slower."
   ]
  },
  {
   "cell_type": "code",
   "execution_count": 8,
   "metadata": {},
   "outputs": [
    {
     "name": "stdout",
     "output_type": "stream",
     "text": [
      "There are in total 4289 games with 18-month data.\n"
     ]
    }
   ],
   "source": [
    "#dropping datas with less than x months: x = cutoff\n",
    "\n",
    "cutoff = 18\n",
    "\n",
    "data = avg_players.copy()\n",
    "data_pure = avg_pure.copy()\n",
    "list1 = []\n",
    "for i in range(len(data)):\n",
    "    if len(data_pure.iloc[i][data_pure.iloc[i].first_valid_index():data_pure.iloc[i].last_valid_index()])<cutoff:\n",
    "        list1.append(i)\n",
    "data=data.drop(index = list1).reset_index(drop=True)\n",
    "data_pure=data_pure.drop(index = list1).reset_index(drop=True)\n",
    "\n",
    "print('There are in total ' + str(len(data)) + ' games with '+str(cutoff) +'-month data.')"
   ]
  },
  {
   "cell_type": "code",
   "execution_count": 9,
   "metadata": {},
   "outputs": [],
   "source": [
    "def simpl_model_error(data, time_total=cutoff ,time_for_pred=6):\n",
    "    data_copy=data.copy()\n",
    "    data = nonsmooth_values(data_copy)\n",
    "    time_start=time_total-time_for_pred\n",
    "    data_total = []\n",
    "    for i in range(len(data)):\n",
    "        data_total.append(data[i][:time_total])\n",
    "    \n",
    "    data_start = [data[i][:time_start] for i in range(len(data))]\n",
    "    data_for_pred = [data[i][time_start:time_total] for i in range(len(data))]\n",
    "    naive_error=[]\n",
    "    exp_error=[]\n",
    "    arima_error=[]\n",
    "    new_error=[]\n",
    "    \n",
    "    for i in range(len(data)):\n",
    "        test = data_for_pred[i]\n",
    "        if rootmse(0,test)!=0:\n",
    "            pred_naive = np.ones(time_for_pred) * (data_start[i][-1])\n",
    "            error_naive = get_error(pred_naive,test)\n",
    "            naive_error.append(error_naive)\n",
    "        \n",
    "            ses = SimpleExpSmoothing(data_start[i])\n",
    "            fit = ses.fit(smoothing_level=.6, optimized=False)\n",
    "            pred_exp = fit.forecast(time_for_pred)\n",
    "            error_exp = get_error(pred_exp,test)\n",
    "            exp_error.append(error_exp)\n",
    "            \n",
    "            pred_new = (pred_naive+pred_exp)/2\n",
    "            error_new = get_error(pred_new,test)\n",
    "            new_error.append(error_new)\n",
    "            \n",
    "    return naive_error, exp_error, new_error"
   ]
  },
  {
   "cell_type": "code",
   "execution_count": 10,
   "metadata": {},
   "outputs": [
    {
     "name": "stderr",
     "output_type": "stream",
     "text": [
      "C:\\Users\\zhoul\\anaconda3\\lib\\site-packages\\statsmodels\\tsa\\holtwinters\\model.py:427: FutureWarning: After 0.13 initialization must be handled at model creation\n",
      "  warnings.warn(\n",
      "C:\\Users\\zhoul\\anaconda3\\lib\\site-packages\\statsmodels\\tsa\\holtwinters\\model.py:1439: RuntimeWarning: divide by zero encountered in log\n",
      "  aic = self.nobs * np.log(sse / self.nobs) + k * 2\n",
      "C:\\Users\\zhoul\\anaconda3\\lib\\site-packages\\statsmodels\\tsa\\holtwinters\\model.py:1445: RuntimeWarning: divide by zero encountered in log\n",
      "  bic = self.nobs * np.log(sse / self.nobs) + k * np.log(self.nobs)\n"
     ]
    },
    {
     "name": "stdout",
     "output_type": "stream",
     "text": [
      "The average percentage error is [0.509738395258373, 0.5017761447426813, 0.5015697324185324]\n"
     ]
    }
   ],
   "source": [
    "errors = simpl_model_error(data_pure, time_for_pred=6)\n",
    "errors_mean = [np.mean(errors[i]) for i in range(len(errors))]\n",
    "\n",
    "print('The average percentage error is '+str(errors_mean))"
   ]
  },
  {
   "cell_type": "code",
   "execution_count": 11,
   "metadata": {},
   "outputs": [
    {
     "data": {
      "image/png": "[encoded data removed]",
      "text/plain": [
       "<Figure size 1440x432 with 3 Axes>"
      ]
     },
     "metadata": {
      "needs_background": "light"
     },
     "output_type": "display_data"
    }
   ],
   "source": [
    "fig,ax=plt.subplots(1,3,figsize=(20,6))\n",
    "for i in range(3):\n",
    "    ax[i].scatter(range(len(errors[i])),errors[i])\n",
    "ax[0].set_title('Naive')\n",
    "ax[1].set_title('SES')\n",
    "ax[2].set_title('Average of Naive and SES')\n",
    "plt.show()"
   ]
  },
  {
   "cell_type": "markdown",
   "metadata": {},
   "source": [
    "We take a look at the performance of ARIMA:"
   ]
  },
  {
   "cell_type": "code",
   "execution_count": 12,
   "metadata": {},
   "outputs": [],
   "source": [
    "import warnings\n",
    "from statsmodels.tools.sm_exceptions import ConvergenceWarning\n",
    "warnings.simplefilter('ignore', ConvergenceWarning)\n",
    "\n",
    "def arima_error(data, time_total=cutoff ,time_for_pred=6):\n",
    "    data_copy=data.copy()\n",
    "    data = nonsmooth_values(data_copy)\n",
    "    time_start=time_total-time_for_pred\n",
    "    data_total = []\n",
    "    for i in range(len(data)):\n",
    "        data_total.append(data[i][:time_total])\n",
    "    \n",
    "    data_start = [data[i][:time_start] for i in range(len(data))]\n",
    "    data_for_pred = [data[i][time_start:time_total] for i in range(len(data))]\n",
    "    arima_error=[]\n",
    "\n",
    "    for i in range(len(data)):\n",
    "        test = data_for_pred[i]\n",
    "        if rootmse(0,test)!=0:\n",
    "            norm = rootmse(0,test)\n",
    "            arima = ARIMA(data_start[i], order = (1,1,2))\n",
    "            arima_fit = arima.fit()\n",
    "            pred_arima = arima_fit.forecast(time_for_pred)\n",
    "            error_arima = rootmse(pred_arima,test)/norm\n",
    "            arima_error.append(error_arima)\n",
    "            \n",
    "    return arima_error"
   ]
  },
  {
   "cell_type": "code",
   "execution_count": 13,
   "metadata": {},
   "outputs": [
    {
     "name": "stderr",
     "output_type": "stream",
     "text": [
      "C:\\Users\\zhoul\\anaconda3\\lib\\site-packages\\statsmodels\\tsa\\statespace\\sarimax.py:965: UserWarning: Non-stationary starting autoregressive parameters found. Using zeros as starting parameters.\n",
      "  warn('Non-stationary starting autoregressive parameters'\n",
      "C:\\Users\\zhoul\\anaconda3\\lib\\site-packages\\statsmodels\\tsa\\statespace\\sarimax.py:977: UserWarning: Non-invertible starting MA parameters found. Using zeros as starting parameters.\n",
      "  warn('Non-invertible starting MA parameters found.'\n"
     ]
    },
    {
     "name": "stdout",
     "output_type": "stream",
     "text": [
      "The average percentage error of ARIMA is 0.5043614241398622\n"
     ]
    }
   ],
   "source": [
    "errors_arima = arima_error(data_pure, time_for_pred=6)\n",
    "errors_arima_mean = np.mean(errors)\n",
    "\n",
    "print('The average percentage error of ARIMA is '+str(errors_arima_mean))"
   ]
  },
  {
   "cell_type": "markdown",
   "metadata": {},
   "source": [
    "## Plotting\n",
    "\n",
    "At the end of this notebook, we plot the prediction curve for visual comparasion."
   ]
  },
  {
   "cell_type": "code",
   "execution_count": 14,
   "metadata": {},
   "outputs": [],
   "source": [
    "plt.style.use('dark_background')"
   ]
  },
  {
   "cell_type": "code",
   "execution_count": 15,
   "metadata": {},
   "outputs": [],
   "source": [
    "def pred_plot(data, i_game,pred_k=6, smoothing_level=.2,title='Prediction',save_fig=False):\n",
    "    \n",
    "    data_copy=data.copy()\n",
    "    data1 = nonsmooth_values(data_copy)\n",
    "    game=data1[i_game]\n",
    "    time_start=cutoff-pred_k\n",
    "    \n",
    "    train = game[:time_start]\n",
    "    test = game[time_start:cutoff]\n",
    "    \n",
    "    fig=plt.figure(figsize=(8,6))\n",
    "    plt.plot(range(time_start),train,'m',label = \"Training Data\")\n",
    "    plt.plot(range(time_start+1,cutoff+1),test,'m--',label = \"Test Data\")\n",
    "    \n",
    "    ses = SimpleExpSmoothing(train)\n",
    "    ses_fit = ses.fit(smoothing_level=smoothing_level, optimized=False)\n",
    "    plt.plot(range(time_start),ses_fit.fittedvalues,'y-',label = \"SES Fitted Values\")\n",
    "    plt.plot(range(time_start+1,cutoff+1),ses_fit.forecast(len(test)),'y--',label = \"SES Forecast\")\n",
    "    \n",
    "    arima = ARIMA(train, order = (1,1,2))\n",
    "    arima_fit = arima.fit()\n",
    "    plt.plot(range(time_start),arima_fit.fittedvalues,'r-',label = \"ARIMA Fitted Values\")\n",
    "    plt.plot(range(time_start+1,cutoff+1),arima_fit.forecast(len(test)),'r--',label = \"ARIMA Forecast\")\n",
    "    \n",
    "    plt.plot(range(time_start+1,cutoff+1),np.ones(len(test))*train[-1],'--',label = \"Naive Forecast\")\n",
    "    \n",
    "    plt.legend(fontsize=14)\n",
    "    plt.ylabel(str(avg_players.Name.iloc[i_game]))\n",
    "    plt.title('Simple Methods')\n",
    "    plt.show()\n",
    "    \n",
    "    if save_fig:\n",
    "        fig.savefig('ExamplePlot2.png',bbox_inches=\"tight\")"
   ]
  },
  {
   "cell_type": "code",
   "execution_count": 16,
   "metadata": {},
   "outputs": [
    {
     "name": "stderr",
     "output_type": "stream",
     "text": [
      "C:\\Users\\zhoul\\anaconda3\\lib\\site-packages\\statsmodels\\tsa\\holtwinters\\model.py:427: FutureWarning: After 0.13 initialization must be handled at model creation\n",
      "  warnings.warn(\n"
     ]
    },
    {
     "data": {
      "image/png": "[encoded data removed]",
      "text/plain": [
       "<Figure size 576x432 with 1 Axes>"
      ]
     },
     "metadata": {},
     "output_type": "display_data"
    }
   ],
   "source": [
    "avg_plot = avg_players.drop(columns=['Name','App_id', 'max','mean','birth'])\n",
    "pred_plot(avg_plot,0)"
   ]
  },
  {
   "cell_type": "code",
   "execution_count": null,
   "metadata": {},
   "outputs": [],
   "source": []
  }
 ],
 "metadata": {
  "kernelspec": {
   "display_name": "Python 3",
   "language": "python",
   "name": "python3"
  },
  "language_info": {
   "codemirror_mode": {
    "name": "ipython",
    "version": 3
   },
   "file_extension": ".py",
   "mimetype": "text/x-python",
   "name": "python",
   "nbconvert_exporter": "python",
   "pygments_lexer": "ipython3",
   "version": "3.8.5"
  }
 },
 "nbformat": 4,
 "nbformat_minor": 4
}
